{
 "cells": [
  {
   "cell_type": "code",
   "execution_count": 1,
   "id": "65db8ef9",
   "metadata": {},
   "outputs": [
    {
     "data": {
      "text/plain": [
       "'C:\\\\Users\\\\M ZAHID HASAN\\\\Desktop\\\\test'"
      ]
     },
     "execution_count": 1,
     "metadata": {},
     "output_type": "execute_result"
    }
   ],
   "source": [
    "#importing the required module\n",
    "import os\n",
    "#changing directory to the filepath\n",
    "os.chdir(r'C:\\Users\\M ZAHID HASAN\\Desktop\\test')\n",
    "#printing working directory\n",
    "os.getcwd()"
   ]
  },
  {
   "cell_type": "code",
   "execution_count": 3,
   "id": "23676593",
   "metadata": {},
   "outputs": [
    {
     "name": "stdout",
     "output_type": "stream",
     "text": [
      "['Alex   - Cricket    -   #1.txt', 'Butler   -        Cricket     -       #10.txt', 'Liam -   Cricket    -   #5.txt']\n"
     ]
    }
   ],
   "source": [
    "#list the files\n",
    "print(os.listdir())"
   ]
  },
  {
   "cell_type": "code",
   "execution_count": 10,
   "id": "b4099a18",
   "metadata": {},
   "outputs": [],
   "source": [
    "for f in os.listdir():\n",
    "    #print(f)\n",
    "    #splitting the filenames including extension without removing any character\n",
    "    file_name,file_ext = os.path.splitext(f)\n",
    "    #print(file_name,file_ext)\n",
    "    #splitting name portion with -\n",
    "    f_name,f_game,f_num = file_name.split('-')\n",
    "    #print(f_name)\n",
    "    #print(f_game)\n",
    "    #print(f_num)\n",
    "    #print(file_ext)\n",
    "    #removing spaces\n",
    "    f_name = f_name.strip()\n",
    "    f_game = f_game.strip()\n",
    "    #removing spaces, # and formatting the number so that 10 doesn't appear after 1\n",
    "    f_num = f_num.strip()[1:].zfill(2)\n",
    "    #making new name template\n",
    "    new_name = '{}-{}-{}{}'.format(f_num,f_name,f_game,file_ext)\n",
    "    #finally renaming the files\n",
    "    os.rename(f,new_name)"
   ]
  },
  {
   "cell_type": "code",
   "execution_count": 11,
   "id": "48676cb3",
   "metadata": {},
   "outputs": [
    {
     "name": "stdout",
     "output_type": "stream",
     "text": [
      "['01-Alex-Cricket.txt', '05-Liam-Cricket.txt', '10-Butler-Cricket.txt']\n"
     ]
    }
   ],
   "source": [
    "#finally listing the files with new names\n",
    "print(os.listdir())"
   ]
  }
 ],
 "metadata": {
  "kernelspec": {
   "display_name": "Python 3 (ipykernel)",
   "language": "python",
   "name": "python3"
  },
  "language_info": {
   "codemirror_mode": {
    "name": "ipython",
    "version": 3
   },
   "file_extension": ".py",
   "mimetype": "text/x-python",
   "name": "python",
   "nbconvert_exporter": "python",
   "pygments_lexer": "ipython3",
   "version": "3.9.12"
  }
 },
 "nbformat": 4,
 "nbformat_minor": 5
}
